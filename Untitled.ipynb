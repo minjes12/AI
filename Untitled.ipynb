{
  "nbformat": 4,
  "nbformat_minor": 0,
  "metadata": {
    "colab": {
      "name": "Untitled",
      "provenance": [],
      "authorship_tag": "ABX9TyPnw9a4szLAb02tVPYeRBpX",
      "include_colab_link": true
    },
    "kernelspec": {
      "name": "python3",
      "display_name": "Python 3"
    }
  },
  "cells": [
    {
      "cell_type": "markdown",
      "metadata": {
        "id": "view-in-github",
        "colab_type": "text"
      },
      "source": [
        "<a href=\"https://colab.research.google.com/github/minjes12/AI/blob/master/Untitled.ipynb\" target=\"_parent\"><img src=\"https://colab.research.google.com/assets/colab-badge.svg\" alt=\"Open In Colab\"/></a>"
      ]
    },
    {
      "cell_type": "markdown",
      "metadata": {
        "id": "OlV3nKwQf3t3",
        "colab_type": "text"
      },
      "source": [
        ""
      ]
    },
    {
      "cell_type": "markdown",
      "metadata": {
        "id": "BD9hpRdIQ9hM",
        "colab_type": "text"
      },
      "source": [
        "# 1주차 과제\n",
        "\n",
        "![인공지능](https://images.app.goo.gl/KQw9bArpXccvhpuF7)\n",
        "\n",
        "\n",
        "### **1. 언어**\n",
        "#####*구글 번역기\n",
        "#####*챗봇\n",
        "######[챗봇적용사례](http://www.saltlux.com/ai/appExample.do?menuNumber=1)   \n",
        "---------\n",
        "\n",
        "###**2. 음성**\n",
        "#####* T맵 NUGU\n",
        "#####* iPHONE SIRI\n",
        "---------\n",
        "###**3. 이미지**\n",
        "#####* 얼굴인식을 통해 사집첩을 만들어주는 구글포토 \n",
        "#####* 카카오페이 얼굴인식 결제\n",
        "-----\n",
        "###**4. 자율주행**\n",
        "##### **세계최초* 상용화된 자율주행 자동차 웨이모\n",
        "#####*5톤까지 가능한 드론서비스 _제이디  닷컴_\n",
        "\n",
        "\n"
      ]
    }
  ]
}